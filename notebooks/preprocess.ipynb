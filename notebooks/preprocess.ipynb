{
 "cells": [
  {
   "cell_type": "markdown",
   "id": "7021eb32-a201-470f-8368-c2190f31cd2e",
   "metadata": {},
   "source": [
    "# **MeCab**"
   ]
  },
  {
   "cell_type": "code",
   "execution_count": 17,
   "id": "2badcea1-7afe-4b4f-9f18-3e4609627894",
   "metadata": {},
   "outputs": [
    {
     "name": "stdout",
     "output_type": "stream",
     "text": [
      "これ\t名詞,代名詞,一般,*,*,*,これ,コレ,コレ\n",
      "は\t助詞,係助詞,*,*,*,*,は,ハ,ワ\n",
      "テスト\t名詞,サ変接続,*,*,*,*,テスト,テスト,テスト\n",
      "です\t助動詞,*,*,*,特殊・デス,基本形,です,デス,デス\n",
      "。\t記号,句点,*,*,*,*,。,。,。\n",
      "EOS\n"
     ]
    }
   ],
   "source": [
    "!echo 'これはテストです。' | mecab -d /var/lib/mecab/dic/ipadic-utf8"
   ]
  },
  {
   "cell_type": "code",
   "execution_count": 19,
   "id": "c18cfc11-b2ae-4581-a76d-e8adf04f44c2",
   "metadata": {},
   "outputs": [
    {
     "name": "stdout",
     "output_type": "stream",
     "text": [
      "これ は テスト です 。 \n"
     ]
    }
   ],
   "source": [
    "!echo 'これはテストです。' | mecab -d /var/lib/mecab/dic/ipadic-utf8 -O wakati"
   ]
  },
  {
   "cell_type": "code",
   "execution_count": 21,
   "id": "38da28b6-704f-4c2b-a0b9-c1a19239e292",
   "metadata": {},
   "outputs": [
    {
     "name": "stdout",
     "output_type": "stream",
     "text": [
      "これ は テスト です 。 \n",
      "これ も テスト です 。 \n"
     ]
    }
   ],
   "source": [
    "!echo 'これはテストです。\\nこれもテストです。' > sample.txt\n",
    "!cat sample.txt | mecab -d /var/lib/mecab/dic/ipadic-utf8 -O wakati"
   ]
  },
  {
   "cell_type": "markdown",
   "id": "c87995be-b86d-411f-b12a-926cb4d06624",
   "metadata": {},
   "source": [
    "### mecab-ko-dic"
   ]
  },
  {
   "cell_type": "code",
   "execution_count": 22,
   "id": "ff9e24e6-e8fa-4680-b546-bfd17c637735",
   "metadata": {},
   "outputs": [
    {
     "name": "stdout",
     "output_type": "stream",
     "text": [
      "이것 은 테스트 입니다 . \n"
     ]
    }
   ],
   "source": [
    "!echo '이것은 테스트입니다.' | mecab -d /usr/lib/x86_64-linux-gnu/mecab/dic/mecab-ko-dic -O wakati"
   ]
  },
  {
   "cell_type": "markdown",
   "id": "27366af3-24a8-4641-be0a-89337c444f12",
   "metadata": {},
   "source": [
    "# **Juman++**"
   ]
  },
  {
   "cell_type": "code",
   "execution_count": 23,
   "id": "fa02f13f-4f39-45c1-b7d9-16f5b8a176f7",
   "metadata": {},
   "outputs": [
    {
     "name": "stdout",
     "output_type": "stream",
     "text": [
      "これ これ これ 指示詞 7 名詞形態指示詞 1 * 0 * 0 NIL\n",
      "は は は 助詞 9 副助詞 2 * 0 * 0 NIL\n",
      "テスト てすと テスト 名詞 6 サ変名詞 2 * 0 * 0 \"代表表記:テスト/てすと ドメイン:教育・学習 カテゴリ:抽象物\"\n",
      "です です だ 判定詞 4 * 0 判定詞 25 デス列基本形 27 NIL\n",
      "。 。 。 特殊 1 句点 1 * 0 * 0 NIL\n",
      "EOS\n"
     ]
    }
   ],
   "source": [
    "!echo 'これはテストです。' | jumanpp"
   ]
  },
  {
   "cell_type": "code",
   "execution_count": 24,
   "id": "6c7e0d25-858d-47ac-855c-c6306b7ed64c",
   "metadata": {},
   "outputs": [],
   "source": [
    "from pyknp import Juman\n",
    "jumanpp = Juman()\n",
    "def juman_tokenizer(sent):\n",
    "    result =  jumanpp.analysis(sent)\n",
    "    words = [mrph.midasi for mrph in result.mrph_list()]\n",
    "    return \" \".join(words)"
   ]
  },
  {
   "cell_type": "code",
   "execution_count": 25,
   "id": "45f2c1ec-7a82-480d-9a08-575a30a4b81b",
   "metadata": {},
   "outputs": [
    {
     "data": {
      "text/plain": [
       "'これ は テスト です 。'"
      ]
     },
     "execution_count": 25,
     "metadata": {},
     "output_type": "execute_result"
    }
   ],
   "source": [
    "juman_tokenizer('これはテストです。')"
   ]
  },
  {
   "cell_type": "markdown",
   "id": "67ed4f4f-2299-4458-a612-734597cdf6f3",
   "metadata": {},
   "source": [
    "# **KyTea**"
   ]
  },
  {
   "cell_type": "code",
   "execution_count": 1,
   "id": "7148cb43-9a22-45a3-8e28-9c2173759ae5",
   "metadata": {},
   "outputs": [
    {
     "name": "stdout",
     "output_type": "stream",
     "text": [
      "これ/代名詞/これ は/助詞/は テスト/名詞/てすと で/助動詞/で す/語尾/す 。/補助記号/。\n"
     ]
    }
   ],
   "source": [
    "!echo 'これはテストです。' | kytea "
   ]
  },
  {
   "cell_type": "code",
   "execution_count": 28,
   "id": "9705e9be-6c7b-4a3a-8c58-3280a1df1445",
   "metadata": {},
   "outputs": [
    {
     "name": "stdout",
     "output_type": "stream",
     "text": [
      "これ は テスト で す 。\n"
     ]
    }
   ],
   "source": [
    "!echo 'これはテストです。' | kytea -out tok"
   ]
  },
  {
   "cell_type": "markdown",
   "id": "873b71ae-5669-40bb-bfbe-cb0931bc9b09",
   "metadata": {},
   "source": [
    "# **Moses**"
   ]
  },
  {
   "cell_type": "markdown",
   "id": "10ce4f48-9283-486b-bc2b-86b83e0226d9",
   "metadata": {},
   "source": [
    "### Tokenize"
   ]
  },
  {
   "cell_type": "code",
   "execution_count": 53,
   "id": "2a96c31f-bd95-4b7f-977f-1f2b829a9469",
   "metadata": {},
   "outputs": [
    {
     "name": "stdout",
     "output_type": "stream",
     "text": [
      "Tokenizer Version 1.1\n",
      "Language: en\n",
      "Number of threads: 1\n",
      "I ’ m living in Japan .\n"
     ]
    }
   ],
   "source": [
    "!echo 'I’m living in Japan.' | perl /workspace/mosesdecoder/scripts/tokenizer/tokenizer.perl -l en -no-escape"
   ]
  },
  {
   "cell_type": "markdown",
   "id": "2a67da81-68d4-460d-8ba4-6a3582455018",
   "metadata": {},
   "source": [
    "### Lowercase, Truecase"
   ]
  },
  {
   "cell_type": "code",
   "execution_count": 36,
   "id": "848bf948-bf78-4cdd-914f-ae0f235f293a",
   "metadata": {},
   "outputs": [],
   "source": [
    "!/workspace/mosesdecoder/scripts/recaser/train-truecaser.perl --model model/tc --corpus ../data/europarl-v7.fr-en.en "
   ]
  },
  {
   "cell_type": "code",
   "execution_count": 51,
   "id": "b9299ef9-2a9c-41d7-b7ea-99f5df4e96a3",
   "metadata": {},
   "outputs": [
    {
     "name": "stdout",
     "output_type": "stream",
     "text": [
      "this is a test.\n",
      "this is a test.\n"
     ]
    }
   ],
   "source": [
    "!echo 'This is a Test.' | /workspace/mosesdecoder/scripts/tokenizer/lowercase.perl\n",
    "!echo 'This is a Test.' | /workspace/mosesdecoder/scripts/recaser/truecase.perl --model model/tc"
   ]
  },
  {
   "cell_type": "code",
   "execution_count": 54,
   "id": "49784eeb-8a2d-4845-bc9e-6e7e689b0f56",
   "metadata": {},
   "outputs": [
    {
     "name": "stdout",
     "output_type": "stream",
     "text": [
      "i'm living in japan\n",
      "I ’ m living in Japan .\n"
     ]
    }
   ],
   "source": [
    "!echo \"I'm living in Japan\" | /workspace/mosesdecoder/scripts/tokenizer/lowercase.perl\n",
    "!echo \"I'm living in Japan\" | /workspace/mosesdecoder/scripts/recaser/truecase.perl --model model/tc"
   ]
  },
  {
   "cell_type": "markdown",
   "id": "cc1b9526-c8b0-49a2-98db-3166237e450f",
   "metadata": {},
   "source": [
    "# **BytePairEncoding**"
   ]
  },
  {
   "cell_type": "code",
   "execution_count": null,
   "id": "62496606-9169-437b-bb3a-65180aca0a43",
   "metadata": {},
   "outputs": [],
   "source": [
    "!mkdir -p model\n",
    "!spm_train --input=../data/europarl-v7.fr-en.en --model_type=bpe --model_prefix=model/bpe --vocab_size=8000"
   ]
  },
  {
   "cell_type": "code",
   "execution_count": 46,
   "id": "f5547b85-4ed5-4c9a-99cb-81957c6558be",
   "metadata": {},
   "outputs": [
    {
     "name": "stdout",
     "output_type": "stream",
     "text": [
      "▁the ▁week ly ▁meeting\n"
     ]
    }
   ],
   "source": [
    "!echo \"the weekly meeting\" | spm_encode --model=model/bpe.model"
   ]
  },
  {
   "cell_type": "markdown",
   "id": "170fe4c9-0f29-4548-b44d-808c25ca33e6",
   "metadata": {},
   "source": [
    "# **SentencePiece**"
   ]
  },
  {
   "cell_type": "code",
   "execution_count": null,
   "id": "863f272b-2dcb-4bb0-b132-86b753af3690",
   "metadata": {},
   "outputs": [],
   "source": [
    "!spm_train --input=../data/europarl-v7.fr-en.en --model_type=unigram --model_prefix=model/sp --vocab_size=8000"
   ]
  },
  {
   "cell_type": "code",
   "execution_count": 29,
   "id": "c26070a5-a42c-450e-b494-df36234353f0",
   "metadata": {},
   "outputs": [
    {
     "name": "stdout",
     "output_type": "stream",
     "text": [
      "▁the ▁week ly ▁meeting\n"
     ]
    }
   ],
   "source": [
    "!echo \"the weekly meeting\" | spm_encode --model=model/sp.model"
   ]
  },
  {
   "cell_type": "code",
   "execution_count": 47,
   "id": "38a1aebe-a40a-407f-b3c5-8e450def970a",
   "metadata": {},
   "outputs": [
    {
     "name": "stdout",
     "output_type": "stream",
     "text": [
      "model  preprocess.ipynb  sample.model  sample.txt\n"
     ]
    }
   ],
   "source": [
    "!ls"
   ]
  },
  {
   "cell_type": "code",
   "execution_count": null,
   "id": "00a33f86-6923-40c4-b981-37d6f8992867",
   "metadata": {},
   "outputs": [],
   "source": []
  }
 ],
 "metadata": {
  "kernelspec": {
   "display_name": "Python 3 (ipykernel)",
   "language": "python",
   "name": "python3"
  },
  "language_info": {
   "codemirror_mode": {
    "name": "ipython",
    "version": 3
   },
   "file_extension": ".py",
   "mimetype": "text/x-python",
   "name": "python",
   "nbconvert_exporter": "python",
   "pygments_lexer": "ipython3",
   "version": "3.7.7"
  }
 },
 "nbformat": 4,
 "nbformat_minor": 5
}
